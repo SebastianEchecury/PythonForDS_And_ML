{
 "cells": [
  {
   "cell_type": "code",
   "execution_count": 1,
   "id": "eb8c733d",
   "metadata": {},
   "outputs": [],
   "source": [
    "list = [1, 2, 3]"
   ]
  },
  {
   "cell_type": "code",
   "execution_count": 2,
   "id": "06f53de7",
   "metadata": {},
   "outputs": [
    {
     "data": {
      "text/plain": [
       "[1, 2, 3]"
      ]
     },
     "execution_count": 2,
     "metadata": {},
     "output_type": "execute_result"
    }
   ],
   "source": [
    "list"
   ]
  },
  {
   "cell_type": "code",
   "execution_count": 2,
   "id": "7219db7f",
   "metadata": {},
   "outputs": [],
   "source": [
    "import numpy as np"
   ]
  },
  {
   "cell_type": "code",
   "execution_count": 5,
   "id": "b01fd9a6",
   "metadata": {},
   "outputs": [],
   "source": [
    "array = np.array(list)"
   ]
  },
  {
   "cell_type": "code",
   "execution_count": 6,
   "id": "e44b43e9",
   "metadata": {},
   "outputs": [
    {
     "data": {
      "text/plain": [
       "array([1, 2, 3])"
      ]
     },
     "execution_count": 6,
     "metadata": {},
     "output_type": "execute_result"
    }
   ],
   "source": [
    "array"
   ]
  },
  {
   "cell_type": "code",
   "execution_count": 7,
   "id": "cde3167b",
   "metadata": {},
   "outputs": [
    {
     "data": {
      "text/plain": [
       "[[1, 2, 3], [4, 5, 6], [7, 8, 9]]"
      ]
     },
     "execution_count": 7,
     "metadata": {},
     "output_type": "execute_result"
    }
   ],
   "source": [
    "matriz = [[1, 2, 3],\n",
    "         [4, 5, 6],\n",
    "         [7, 8, 9]]\n",
    "matriz"
   ]
  },
  {
   "cell_type": "code",
   "execution_count": 8,
   "id": "cc7e6913",
   "metadata": {},
   "outputs": [
    {
     "data": {
      "text/plain": [
       "array([[1, 2, 3],\n",
       "       [4, 5, 6],\n",
       "       [7, 8, 9]])"
      ]
     },
     "execution_count": 8,
     "metadata": {},
     "output_type": "execute_result"
    }
   ],
   "source": [
    "np.array(matriz)"
   ]
  },
  {
   "cell_type": "code",
   "execution_count": 11,
   "id": "d9a1db04",
   "metadata": {},
   "outputs": [
    {
     "data": {
      "text/plain": [
       "array([3, 5, 7, 9])"
      ]
     },
     "execution_count": 11,
     "metadata": {},
     "output_type": "execute_result"
    }
   ],
   "source": [
    "### Una forma de crear arreglos\n",
    "np.arange(3, 10, 2) # Crea un arreglo arrancando desde el primer numero hasta el segundo. El tercer parametro es opcional, es para hacer un intervalo, en este caso de dos en dos"
   ]
  },
  {
   "cell_type": "code",
   "execution_count": 13,
   "id": "9ed245db",
   "metadata": {},
   "outputs": [
    {
     "data": {
      "text/plain": [
       "array([[0., 0., 0., 0., 0.],\n",
       "       [0., 0., 0., 0., 0.],\n",
       "       [0., 0., 0., 0., 0.],\n",
       "       [0., 0., 0., 0., 0.],\n",
       "       [0., 0., 0., 0., 0.]])"
      ]
     },
     "execution_count": 13,
     "metadata": {},
     "output_type": "execute_result"
    }
   ],
   "source": [
    "### Generar un arreglo de ceros\n",
    "np.zeros(3) # Va a generar un arreglo con tantos 0 como indique el parametro\n",
    "np.zeros((5, 5)) # Va a generar matriz de 5x5"
   ]
  },
  {
   "cell_type": "code",
   "execution_count": 5,
   "id": "a0bd6587",
   "metadata": {},
   "outputs": [
    {
     "data": {
      "text/plain": [
       "array([[1., 1., 1.],\n",
       "       [1., 1., 1.]])"
      ]
     },
     "execution_count": 5,
     "metadata": {},
     "output_type": "execute_result"
    }
   ],
   "source": [
    "### Generar arreglo de unos\n",
    "np.ones(6)\n",
    "np.ones((2, 3))"
   ]
  },
  {
   "cell_type": "code",
   "execution_count": 6,
   "id": "adfcc927",
   "metadata": {},
   "outputs": [
    {
     "data": {
      "text/plain": [
       "array([ 0.,  5., 10.])"
      ]
     },
     "execution_count": 6,
     "metadata": {},
     "output_type": "execute_result"
    }
   ],
   "source": [
    "### Linspace()\n",
    "np.linspace(0, 10, 3) # Genera una arreglo empezando desde el primer argumento, hasta el segundo, del tamaño del tercer argumento proporcionalmente distribuidos"
   ]
  },
  {
   "cell_type": "code",
   "execution_count": 7,
   "id": "f9c69200",
   "metadata": {},
   "outputs": [
    {
     "data": {
      "text/plain": [
       "array([[1., 0., 0., 0., 0.],\n",
       "       [0., 1., 0., 0., 0.],\n",
       "       [0., 0., 1., 0., 0.],\n",
       "       [0., 0., 0., 1., 0.],\n",
       "       [0., 0., 0., 0., 1.]])"
      ]
     },
     "execution_count": 7,
     "metadata": {},
     "output_type": "execute_result"
    }
   ],
   "source": [
    "### Generar matriz identidad\n",
    "np.eye(5)"
   ]
  },
  {
   "cell_type": "code",
   "execution_count": 9,
   "id": "3bf9cdac",
   "metadata": {},
   "outputs": [
    {
     "data": {
      "text/plain": [
       "array([[0.41780067, 0.86231242, 0.90463721, 0.37931465, 0.58948754],\n",
       "       [0.24721269, 0.40074615, 0.26748174, 0.31629911, 0.86838449],\n",
       "       [0.8933615 , 0.29154135, 0.77182355, 0.8023901 , 0.29795181],\n",
       "       [0.15442448, 0.41103775, 0.64311635, 0.91285977, 0.42830021],\n",
       "       [0.76077633, 0.82263235, 0.25855624, 0.71981003, 0.76782065]])"
      ]
     },
     "execution_count": 9,
     "metadata": {},
     "output_type": "execute_result"
    }
   ],
   "source": [
    "### Generar arreglos de numeros al azar\n",
    "np.random.rand(3) # Arreglo unidimensional con numeros entre el 0 y 1\n",
    "np.random.rand(5, 5)"
   ]
  },
  {
   "cell_type": "code",
   "execution_count": 11,
   "id": "3f54023c",
   "metadata": {},
   "outputs": [
    {
     "data": {
      "text/plain": [
       "array([[ 0.24527603, -1.65081238,  2.36424951, -1.28815631,  1.34521996],\n",
       "       [-0.50625717,  0.8072174 , -1.05261279, -0.78261497,  1.16245235],\n",
       "       [-1.58936336,  1.1335555 , -0.48216802,  0.31016787,  0.80136873],\n",
       "       [ 1.62571585, -0.44500759,  0.0194834 , -0.19523362,  1.15800261],\n",
       "       [-0.65874812,  2.31894914, -0.00918392, -0.35531014,  0.83550346]])"
      ]
     },
     "execution_count": 11,
     "metadata": {},
     "output_type": "execute_result"
    }
   ],
   "source": [
    "### Return a sample (or samples) from the “standard normal” distribution.\n",
    "np.random.randn(5)\n",
    "np.random.randn(5,5)"
   ]
  },
  {
   "cell_type": "code",
   "execution_count": 13,
   "id": "fac2502e",
   "metadata": {},
   "outputs": [
    {
     "data": {
      "text/plain": [
       "array([10,  0, 72, 47, 67, 39, 39, 89, 71,  0, 21, 54, 85, 73, 16, 47, 71,\n",
       "       47, 10, 93, 96, 89, 29, 19, 59, 74, 76, 52, 44, 46, 82, 19, 65, 53,\n",
       "        2, 78, 97, 16,  2, 48, 46, 10, 79, 42, 45, 78, 50, 78, 67, 97, 68,\n",
       "       19, 99, 37, 54])"
      ]
     },
     "execution_count": 13,
     "metadata": {},
     "output_type": "execute_result"
    }
   ],
   "source": [
    "### Generar arreglo de enteros al azar\n",
    "np.random.randint(0, 101, 55) # 55 numeron enteros al azar entre el 0 y 101"
   ]
  },
  {
   "cell_type": "code",
   "execution_count": 15,
   "id": "c7dd2849",
   "metadata": {},
   "outputs": [
    {
     "data": {
      "text/plain": [
       "array([ 0,  1,  2,  3,  4,  5,  6,  7,  8,  9, 10, 11, 12, 13, 14, 15, 16,\n",
       "       17, 18, 19, 20, 21, 22, 23, 24])"
      ]
     },
     "execution_count": 15,
     "metadata": {},
     "output_type": "execute_result"
    }
   ],
   "source": [
    "arr = np.arange(25)\n",
    "arr"
   ]
  },
  {
   "cell_type": "code",
   "execution_count": 17,
   "id": "69d0f57e",
   "metadata": {},
   "outputs": [
    {
     "data": {
      "text/plain": [
       "array([ 1,  2, 44,  4, 28,  1, 38, 18, 37, 38])"
      ]
     },
     "execution_count": 17,
     "metadata": {},
     "output_type": "execute_result"
    }
   ],
   "source": [
    "ranarr = np.random.randint(0, 50, 10)\n",
    "ranarr"
   ]
  },
  {
   "cell_type": "code",
   "execution_count": 18,
   "id": "28dc5fb1",
   "metadata": {},
   "outputs": [
    {
     "data": {
      "text/plain": [
       "array([[ 0,  1,  2,  3,  4],\n",
       "       [ 5,  6,  7,  8,  9],\n",
       "       [10, 11, 12, 13, 14],\n",
       "       [15, 16, 17, 18, 19],\n",
       "       [20, 21, 22, 23, 24]])"
      ]
     },
     "execution_count": 18,
     "metadata": {},
     "output_type": "execute_result"
    }
   ],
   "source": [
    "## reshape()\n",
    "arr.reshape(5, 5) # La cantidad de elementos del nuevo tamaño debe ser igual al anterior"
   ]
  },
  {
   "cell_type": "code",
   "execution_count": 19,
   "id": "7cb8b2e5",
   "metadata": {},
   "outputs": [
    {
     "data": {
      "text/plain": [
       "44"
      ]
     },
     "execution_count": 19,
     "metadata": {},
     "output_type": "execute_result"
    }
   ],
   "source": [
    "ranarr.max()"
   ]
  },
  {
   "cell_type": "code",
   "execution_count": 20,
   "id": "a7c9e014",
   "metadata": {},
   "outputs": [
    {
     "data": {
      "text/plain": [
       "1"
      ]
     },
     "execution_count": 20,
     "metadata": {},
     "output_type": "execute_result"
    }
   ],
   "source": [
    "ranarr.min()"
   ]
  },
  {
   "cell_type": "code",
   "execution_count": 21,
   "id": "90f1e421",
   "metadata": {},
   "outputs": [
    {
     "data": {
      "text/plain": [
       "2"
      ]
     },
     "execution_count": 21,
     "metadata": {},
     "output_type": "execute_result"
    }
   ],
   "source": [
    "ranarr.argmax()"
   ]
  },
  {
   "cell_type": "code",
   "execution_count": 22,
   "id": "4d95a26a",
   "metadata": {},
   "outputs": [
    {
     "data": {
      "text/plain": [
       "0"
      ]
     },
     "execution_count": 22,
     "metadata": {},
     "output_type": "execute_result"
    }
   ],
   "source": [
    "ranarr.argmin()"
   ]
  },
  {
   "cell_type": "code",
   "execution_count": 26,
   "id": "eeda5d17",
   "metadata": {},
   "outputs": [
    {
     "data": {
      "text/plain": [
       "(10,)"
      ]
     },
     "execution_count": 26,
     "metadata": {},
     "output_type": "execute_result"
    }
   ],
   "source": [
    "arr.shape\n",
    "ranarr.shape"
   ]
  },
  {
   "cell_type": "code",
   "execution_count": null,
   "id": "24678e78",
   "metadata": {},
   "outputs": [],
   "source": []
  }
 ],
 "metadata": {
  "kernelspec": {
   "display_name": "Python 3 (ipykernel)",
   "language": "python",
   "name": "python3"
  },
  "language_info": {
   "codemirror_mode": {
    "name": "ipython",
    "version": 3
   },
   "file_extension": ".py",
   "mimetype": "text/x-python",
   "name": "python",
   "nbconvert_exporter": "python",
   "pygments_lexer": "ipython3",
   "version": "3.9.12"
  }
 },
 "nbformat": 4,
 "nbformat_minor": 5
}
