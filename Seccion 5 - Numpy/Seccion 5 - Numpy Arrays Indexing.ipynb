{
 "cells": [
  {
   "cell_type": "code",
   "execution_count": 1,
   "id": "3962cd11",
   "metadata": {},
   "outputs": [],
   "source": [
    "import numpy as np"
   ]
  },
  {
   "cell_type": "code",
   "execution_count": 9,
   "id": "1f37c1cc",
   "metadata": {},
   "outputs": [],
   "source": [
    "arr = np.arange(0, 11)"
   ]
  },
  {
   "cell_type": "code",
   "execution_count": 10,
   "id": "b2a44c9f",
   "metadata": {},
   "outputs": [
    {
     "data": {
      "text/plain": [
       "array([ 0,  1,  2,  3,  4,  5,  6,  7,  8,  9, 10])"
      ]
     },
     "execution_count": 10,
     "metadata": {},
     "output_type": "execute_result"
    }
   ],
   "source": [
    "arr"
   ]
  },
  {
   "cell_type": "code",
   "execution_count": 11,
   "id": "28cd8a43",
   "metadata": {},
   "outputs": [
    {
     "data": {
      "text/plain": [
       "0"
      ]
     },
     "execution_count": 11,
     "metadata": {},
     "output_type": "execute_result"
    }
   ],
   "source": [
    "arr[0] # Elemento en la posicion 0"
   ]
  },
  {
   "cell_type": "code",
   "execution_count": 12,
   "id": "ea47b2a9",
   "metadata": {},
   "outputs": [
    {
     "data": {
      "text/plain": [
       "array([1, 2, 3, 4, 5])"
      ]
     },
     "execution_count": 12,
     "metadata": {},
     "output_type": "execute_result"
    }
   ],
   "source": [
    "arr[1:6] # Elementos de la posicion 1 a 5"
   ]
  },
  {
   "cell_type": "code",
   "execution_count": 13,
   "id": "1bddd214",
   "metadata": {},
   "outputs": [
    {
     "data": {
      "text/plain": [
       "array([0, 1, 2, 3, 4, 5])"
      ]
     },
     "execution_count": 13,
     "metadata": {},
     "output_type": "execute_result"
    }
   ],
   "source": [
    "arr[:6] # Elementos desde el inicio hasta posicion 5"
   ]
  },
  {
   "cell_type": "code",
   "execution_count": 14,
   "id": "15aaff61",
   "metadata": {},
   "outputs": [
    {
     "data": {
      "text/plain": [
       "array([ 6,  7,  8,  9, 10])"
      ]
     },
     "execution_count": 14,
     "metadata": {},
     "output_type": "execute_result"
    }
   ],
   "source": [
    "arr[6:] # Elementos de la posicion 6 hasta el final"
   ]
  },
  {
   "cell_type": "code",
   "execution_count": 15,
   "id": "4d575421",
   "metadata": {},
   "outputs": [],
   "source": [
    "arr[0:5] = 100 # Sobreescribo los elementos de indices 0 a 5 con 100"
   ]
  },
  {
   "cell_type": "code",
   "execution_count": 16,
   "id": "3781f6f5",
   "metadata": {},
   "outputs": [
    {
     "data": {
      "text/plain": [
       "array([100, 100, 100, 100, 100,   5,   6,   7,   8,   9,  10])"
      ]
     },
     "execution_count": 16,
     "metadata": {},
     "output_type": "execute_result"
    }
   ],
   "source": [
    "arr"
   ]
  },
  {
   "cell_type": "code",
   "execution_count": 17,
   "id": "fabc63b0",
   "metadata": {},
   "outputs": [],
   "source": [
    "arr = np.arange(0, 11)"
   ]
  },
  {
   "cell_type": "code",
   "execution_count": 18,
   "id": "8ec5964f",
   "metadata": {},
   "outputs": [],
   "source": [
    "sliceArr = arr[0:5]"
   ]
  },
  {
   "cell_type": "code",
   "execution_count": 19,
   "id": "003d8926",
   "metadata": {},
   "outputs": [
    {
     "data": {
      "text/plain": [
       "array([0, 1, 2, 3, 4])"
      ]
     },
     "execution_count": 19,
     "metadata": {},
     "output_type": "execute_result"
    }
   ],
   "source": [
    "sliceArr[:] "
   ]
  },
  {
   "cell_type": "code",
   "execution_count": 20,
   "id": "b3afc0fd",
   "metadata": {},
   "outputs": [],
   "source": [
    "sliceArr[:] = 100 # Cambia ademas el arreglo original. Los datos no son una copia, si no una vista al arreglo original"
   ]
  },
  {
   "cell_type": "code",
   "execution_count": 21,
   "id": "fc1ce9b3",
   "metadata": {},
   "outputs": [
    {
     "data": {
      "text/plain": [
       "array([100, 100, 100, 100, 100])"
      ]
     },
     "execution_count": 21,
     "metadata": {},
     "output_type": "execute_result"
    }
   ],
   "source": [
    "sliceArr"
   ]
  },
  {
   "cell_type": "code",
   "execution_count": 22,
   "id": "c1a6cb9b",
   "metadata": {},
   "outputs": [
    {
     "data": {
      "text/plain": [
       "array([100, 100, 100, 100, 100,   5,   6,   7,   8,   9,  10])"
      ]
     },
     "execution_count": 22,
     "metadata": {},
     "output_type": "execute_result"
    }
   ],
   "source": [
    "arr"
   ]
  },
  {
   "cell_type": "code",
   "execution_count": 23,
   "id": "c895c8f0",
   "metadata": {},
   "outputs": [],
   "source": [
    "arr_copy = arr.copy() # Para copiar el arreglo y que no sea una vista"
   ]
  },
  {
   "cell_type": "code",
   "execution_count": 26,
   "id": "34afbc5b",
   "metadata": {},
   "outputs": [],
   "source": [
    "arr_copy[:5] = 110"
   ]
  },
  {
   "cell_type": "code",
   "execution_count": 27,
   "id": "1872f146",
   "metadata": {},
   "outputs": [
    {
     "data": {
      "text/plain": [
       "array([110, 110, 110, 110, 110,   5,   6,   7,   8,   9,  10])"
      ]
     },
     "execution_count": 27,
     "metadata": {},
     "output_type": "execute_result"
    }
   ],
   "source": [
    "arr_copy"
   ]
  },
  {
   "cell_type": "code",
   "execution_count": 28,
   "id": "a502f1c9",
   "metadata": {},
   "outputs": [
    {
     "data": {
      "text/plain": [
       "array([100, 100, 100, 100, 100,   5,   6,   7,   8,   9,  10])"
      ]
     },
     "execution_count": 28,
     "metadata": {},
     "output_type": "execute_result"
    }
   ],
   "source": [
    "arr"
   ]
  },
  {
   "cell_type": "code",
   "execution_count": 2,
   "id": "98fef0d0",
   "metadata": {},
   "outputs": [],
   "source": [
    "arr_2d = np.array([[5,10,15], [20,25,30], [35,40,45]])"
   ]
  },
  {
   "cell_type": "code",
   "execution_count": 22,
   "id": "cf15fda0",
   "metadata": {},
   "outputs": [
    {
     "data": {
      "text/plain": [
       "array([[ 5, 10, 15],\n",
       "       [20, 25, 30],\n",
       "       [35, 40, 45]])"
      ]
     },
     "execution_count": 22,
     "metadata": {},
     "output_type": "execute_result"
    }
   ],
   "source": [
    "arr_2d"
   ]
  },
  {
   "cell_type": "markdown",
   "id": "c1705ba0",
   "metadata": {},
   "source": [
    "<h3>Sub Matriz</h3>"
   ]
  },
  {
   "cell_type": "code",
   "execution_count": 10,
   "id": "df7e6d78",
   "metadata": {},
   "outputs": [
    {
     "data": {
      "text/plain": [
       "5"
      ]
     },
     "execution_count": 10,
     "metadata": {},
     "output_type": "execute_result"
    }
   ],
   "source": [
    "arr_2d[0][0]"
   ]
  },
  {
   "cell_type": "code",
   "execution_count": 5,
   "id": "5a8a857b",
   "metadata": {},
   "outputs": [
    {
     "data": {
      "text/plain": [
       "5"
      ]
     },
     "execution_count": 5,
     "metadata": {},
     "output_type": "execute_result"
    }
   ],
   "source": [
    "arr_2d[0,0] # [0, 0] equivale a [0][0]"
   ]
  },
  {
   "cell_type": "code",
   "execution_count": 21,
   "id": "9808b02e",
   "metadata": {},
   "outputs": [
    {
     "data": {
      "text/plain": [
       "array([15, 30, 45])"
      ]
     },
     "execution_count": 21,
     "metadata": {},
     "output_type": "execute_result"
    }
   ],
   "source": [
    "arr_2d[:2,1:]\n",
    "arr_2d[1:,:2]\n",
    "arr_2d[:,2]"
   ]
  },
  {
   "cell_type": "markdown",
   "id": "070bba6d",
   "metadata": {},
   "source": [
    "<h3>Conditional Selection</h3>"
   ]
  },
  {
   "cell_type": "code",
   "execution_count": 25,
   "id": "8efa7f23",
   "metadata": {},
   "outputs": [],
   "source": [
    "arr = np.arange(1, 11)"
   ]
  },
  {
   "cell_type": "code",
   "execution_count": 26,
   "id": "a84de78f",
   "metadata": {},
   "outputs": [
    {
     "data": {
      "text/plain": [
       "array([ 1,  2,  3,  4,  5,  6,  7,  8,  9, 10])"
      ]
     },
     "execution_count": 26,
     "metadata": {},
     "output_type": "execute_result"
    }
   ],
   "source": [
    "arr"
   ]
  },
  {
   "cell_type": "code",
   "execution_count": 28,
   "id": "a0ddae3c",
   "metadata": {},
   "outputs": [],
   "source": [
    "bool_arr = arr > 5 # Devuelve un arreglo de booleanos"
   ]
  },
  {
   "cell_type": "code",
   "execution_count": 29,
   "id": "435e6b7f",
   "metadata": {},
   "outputs": [
    {
     "data": {
      "text/plain": [
       "array([False, False, False, False, False,  True,  True,  True,  True,\n",
       "        True])"
      ]
     },
     "execution_count": 29,
     "metadata": {},
     "output_type": "execute_result"
    }
   ],
   "source": [
    "bool_arr"
   ]
  },
  {
   "cell_type": "code",
   "execution_count": 30,
   "id": "939fbbb6",
   "metadata": {},
   "outputs": [
    {
     "data": {
      "text/plain": [
       "array([ 6,  7,  8,  9, 10])"
      ]
     },
     "execution_count": 30,
     "metadata": {},
     "output_type": "execute_result"
    }
   ],
   "source": [
    "arr[bool_arr] # Me quedo con lo elementos del arreglo que cumplen la validacion"
   ]
  },
  {
   "cell_type": "code",
   "execution_count": 31,
   "id": "291efe71",
   "metadata": {},
   "outputs": [
    {
     "data": {
      "text/plain": [
       "array([ 6,  7,  8,  9, 10])"
      ]
     },
     "execution_count": 31,
     "metadata": {},
     "output_type": "execute_result"
    }
   ],
   "source": [
    "arr[arr>5] # Simplificado"
   ]
  }
 ],
 "metadata": {
  "kernelspec": {
   "display_name": "Python 3 (ipykernel)",
   "language": "python",
   "name": "python3"
  },
  "language_info": {
   "codemirror_mode": {
    "name": "ipython",
    "version": 3
   },
   "file_extension": ".py",
   "mimetype": "text/x-python",
   "name": "python",
   "nbconvert_exporter": "python",
   "pygments_lexer": "ipython3",
   "version": "3.9.12"
  }
 },
 "nbformat": 4,
 "nbformat_minor": 5
}
