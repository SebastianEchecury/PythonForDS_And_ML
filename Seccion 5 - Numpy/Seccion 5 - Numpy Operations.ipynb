{
 "cells": [
  {
   "cell_type": "markdown",
   "id": "01290f5f",
   "metadata": {},
   "source": [
    "<h2>Numpy  Operations</h2>"
   ]
  },
  {
   "cell_type": "code",
   "execution_count": 2,
   "id": "c8a7751d",
   "metadata": {},
   "outputs": [],
   "source": [
    "import numpy as np"
   ]
  },
  {
   "cell_type": "code",
   "execution_count": 5,
   "id": "b59f0f98",
   "metadata": {},
   "outputs": [
    {
     "data": {
      "text/plain": [
       "array([ 0,  1,  2,  3,  4,  5,  6,  7,  8,  9, 10])"
      ]
     },
     "execution_count": 5,
     "metadata": {},
     "output_type": "execute_result"
    }
   ],
   "source": [
    "arr = np.arange(0, 11)\n",
    "arr"
   ]
  },
  {
   "cell_type": "markdown",
   "id": "7615b7c5",
   "metadata": {},
   "source": [
    "<h3>Array with Arrays</h3>"
   ]
  },
  {
   "cell_type": "code",
   "execution_count": 13,
   "id": "5fb1796f",
   "metadata": {},
   "outputs": [
    {
     "data": {
      "text/plain": [
       "array([  0,   1,   4,   9,  16,  25,  36,  49,  64,  81, 100])"
      ]
     },
     "execution_count": 13,
     "metadata": {},
     "output_type": "execute_result"
    }
   ],
   "source": [
    "arr + arr # Le sumo al array el mismo array\n",
    "arr - arr\n",
    "arr * arr\n",
    "#arr / arr # Numpy devuelve nan(nulo) en vez de error al hacer algo invalido como dividir por 0"
   ]
  },
  {
   "cell_type": "markdown",
   "id": "37e76438",
   "metadata": {},
   "source": [
    "<h3>Array with Scalars</h3>"
   ]
  },
  {
   "cell_type": "code",
   "execution_count": 10,
   "id": "9fd2f54b",
   "metadata": {},
   "outputs": [
    {
     "data": {
      "text/plain": [
       "array([   0,  100,  200,  300,  400,  500,  600,  700,  800,  900, 1000])"
      ]
     },
     "execution_count": 10,
     "metadata": {},
     "output_type": "execute_result"
    }
   ],
   "source": [
    "arr + 100 # Le sumo 100 a cada elemento\n",
    "arr - 100\n",
    "arr * 100"
   ]
  },
  {
   "cell_type": "markdown",
   "id": "b8bccd98",
   "metadata": {},
   "source": [
    "<h3>Universal Array Functions</h3>"
   ]
  },
  {
   "cell_type": "code",
   "execution_count": 14,
   "id": "80a328d1",
   "metadata": {},
   "outputs": [
    {
     "data": {
      "text/plain": [
       "array([0.        , 1.        , 1.41421356, 1.73205081, 2.        ,\n",
       "       2.23606798, 2.44948974, 2.64575131, 2.82842712, 3.        ,\n",
       "       3.16227766])"
      ]
     },
     "execution_count": 14,
     "metadata": {},
     "output_type": "execute_result"
    }
   ],
   "source": [
    "np.sqrt(arr) # Devuelve un nuevo arreglo con todos los elementos al cuadrado"
   ]
  },
  {
   "cell_type": "code",
   "execution_count": 15,
   "id": "65b83c58",
   "metadata": {},
   "outputs": [
    {
     "data": {
      "text/plain": [
       "array([1.00000000e+00, 2.71828183e+00, 7.38905610e+00, 2.00855369e+01,\n",
       "       5.45981500e+01, 1.48413159e+02, 4.03428793e+02, 1.09663316e+03,\n",
       "       2.98095799e+03, 8.10308393e+03, 2.20264658e+04])"
      ]
     },
     "execution_count": 15,
     "metadata": {},
     "output_type": "execute_result"
    }
   ],
   "source": [
    "np.exp(arr) # Devuelve un nuevo arreglo con el exponencial de cada elemento (e elevado al elemento)"
   ]
  },
  {
   "cell_type": "code",
   "execution_count": 18,
   "id": "6e3f7862",
   "metadata": {},
   "outputs": [
    {
     "name": "stderr",
     "output_type": "stream",
     "text": [
      "C:\\Users\\Lenovo\\AppData\\Local\\Temp\\ipykernel_14936\\1948528802.py:3: RuntimeWarning: divide by zero encountered in log\n",
      "  np.log(arr)\n"
     ]
    },
    {
     "data": {
      "text/plain": [
       "array([      -inf, 0.        , 0.69314718, 1.09861229, 1.38629436,\n",
       "       1.60943791, 1.79175947, 1.94591015, 2.07944154, 2.19722458,\n",
       "       2.30258509])"
      ]
     },
     "execution_count": 18,
     "metadata": {},
     "output_type": "execute_result"
    }
   ],
   "source": [
    "np.max(arr) # Devuelve el maximo\n",
    "np.sin(arr) # Devuelve el seno de cada elemento. Tambien hay cos(), tan()....\n",
    "np.log(arr)"
   ]
  },
  {
   "cell_type": "markdown",
   "id": "97c8aad0",
   "metadata": {},
   "source": [
    "https://docs.scipy.org/doc/numpy-1.10.1/reference/ufuncs.html"
   ]
  }
 ],
 "metadata": {
  "kernelspec": {
   "display_name": "Python 3 (ipykernel)",
   "language": "python",
   "name": "python3"
  },
  "language_info": {
   "codemirror_mode": {
    "name": "ipython",
    "version": 3
   },
   "file_extension": ".py",
   "mimetype": "text/x-python",
   "name": "python",
   "nbconvert_exporter": "python",
   "pygments_lexer": "ipython3",
   "version": "3.9.12"
  }
 },
 "nbformat": 4,
 "nbformat_minor": 5
}
