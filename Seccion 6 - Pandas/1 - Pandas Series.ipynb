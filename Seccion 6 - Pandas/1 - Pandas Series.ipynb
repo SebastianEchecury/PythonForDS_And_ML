{
 "cells": [
  {
   "cell_type": "markdown",
   "id": "d5848512",
   "metadata": {},
   "source": [
    "<h2>Pandas</h2>"
   ]
  },
  {
   "cell_type": "code",
   "execution_count": 1,
   "id": "423bc381",
   "metadata": {},
   "outputs": [],
   "source": [
    "import numpy as np\n",
    "import pandas as pd"
   ]
  },
  {
   "cell_type": "code",
   "execution_count": 4,
   "id": "e113c32c",
   "metadata": {},
   "outputs": [],
   "source": [
    "labels = ['a', 'b', 'c']\n",
    "my_data = [10, 20, 30]\n",
    "arr = np.array(my_data)\n",
    "d = {'a':10, 'b':20, 'c':30}"
   ]
  },
  {
   "cell_type": "code",
   "execution_count": 9,
   "id": "e3dfbb3d",
   "metadata": {},
   "outputs": [
    {
     "data": {
      "text/plain": [
       "0    10\n",
       "1    20\n",
       "2    30\n",
       "dtype: int64"
      ]
     },
     "execution_count": 9,
     "metadata": {},
     "output_type": "execute_result"
    }
   ],
   "source": [
    "pd.Series(data = my_data)"
   ]
  },
  {
   "cell_type": "code",
   "execution_count": 11,
   "id": "2c1d04a5",
   "metadata": {},
   "outputs": [
    {
     "data": {
      "text/plain": [
       "a    10\n",
       "b    20\n",
       "c    30\n",
       "dtype: int64"
      ]
     },
     "execution_count": 11,
     "metadata": {},
     "output_type": "execute_result"
    }
   ],
   "source": [
    "pd.Series(data = my_data, index = labels)\n",
    "pd.Series(my_data, labels) # No hace falta poner data = e index = "
   ]
  },
  {
   "cell_type": "code",
   "execution_count": 12,
   "id": "9c0cf29a",
   "metadata": {},
   "outputs": [
    {
     "data": {
      "text/plain": [
       "0    10\n",
       "1    20\n",
       "2    30\n",
       "dtype: int32"
      ]
     },
     "execution_count": 12,
     "metadata": {},
     "output_type": "execute_result"
    }
   ],
   "source": [
    "# Se puede crear una series pasando un arreglo de Numpy\n",
    "pd.Series(arr)"
   ]
  },
  {
   "cell_type": "code",
   "execution_count": 13,
   "id": "45f42764",
   "metadata": {},
   "outputs": [
    {
     "data": {
      "text/plain": [
       "a    10\n",
       "b    20\n",
       "c    30\n",
       "dtype: int64"
      ]
     },
     "execution_count": 13,
     "metadata": {},
     "output_type": "execute_result"
    }
   ],
   "source": [
    "# Tambien se puede crear a partir de un diccionario. Tomara las key como indice\n",
    "pd.Series(d)"
   ]
  },
  {
   "cell_type": "code",
   "execution_count": 14,
   "id": "fb2640dd",
   "metadata": {},
   "outputs": [],
   "source": [
    "ser1 = pd.Series([1,2,3,4],['ARG','UY','BRA','COL'])"
   ]
  },
  {
   "cell_type": "code",
   "execution_count": 15,
   "id": "4eb1c3f3",
   "metadata": {},
   "outputs": [
    {
     "data": {
      "text/plain": [
       "ARG    1\n",
       "UY     2\n",
       "BRA    3\n",
       "COL    4\n",
       "dtype: int64"
      ]
     },
     "execution_count": 15,
     "metadata": {},
     "output_type": "execute_result"
    }
   ],
   "source": [
    "ser1"
   ]
  },
  {
   "cell_type": "code",
   "execution_count": 16,
   "id": "e328a3f1",
   "metadata": {},
   "outputs": [],
   "source": [
    "ser2 = pd.Series([4,5,6,7],['ESP','FRA','ITA','POR'])"
   ]
  },
  {
   "cell_type": "code",
   "execution_count": 17,
   "id": "cdf0f451",
   "metadata": {},
   "outputs": [
    {
     "data": {
      "text/plain": [
       "ESP    4\n",
       "FRA    5\n",
       "ITA    6\n",
       "POR    7\n",
       "dtype: int64"
      ]
     },
     "execution_count": 17,
     "metadata": {},
     "output_type": "execute_result"
    }
   ],
   "source": [
    "ser2"
   ]
  },
  {
   "cell_type": "code",
   "execution_count": 18,
   "id": "ae361831",
   "metadata": {},
   "outputs": [
    {
     "data": {
      "text/plain": [
       "1"
      ]
     },
     "execution_count": 18,
     "metadata": {},
     "output_type": "execute_result"
    }
   ],
   "source": [
    "ser1['ARG']"
   ]
  },
  {
   "cell_type": "code",
   "execution_count": 19,
   "id": "672eaeaa",
   "metadata": {},
   "outputs": [],
   "source": [
    "ser3 = pd.Series([1,2,3,4],['ARG','UY','CHL','PER'])"
   ]
  },
  {
   "cell_type": "code",
   "execution_count": 20,
   "id": "60cb54ca",
   "metadata": {},
   "outputs": [
    {
     "data": {
      "text/plain": [
       "ARG    1\n",
       "UY     2\n",
       "BRA    3\n",
       "COL    4\n",
       "dtype: int64"
      ]
     },
     "execution_count": 20,
     "metadata": {},
     "output_type": "execute_result"
    }
   ],
   "source": [
    "ser1"
   ]
  },
  {
   "cell_type": "code",
   "execution_count": 21,
   "id": "9524e149",
   "metadata": {},
   "outputs": [
    {
     "data": {
      "text/plain": [
       "ARG    1\n",
       "UY     2\n",
       "CHL    3\n",
       "PER    4\n",
       "dtype: int64"
      ]
     },
     "execution_count": 21,
     "metadata": {},
     "output_type": "execute_result"
    }
   ],
   "source": [
    "ser3"
   ]
  },
  {
   "cell_type": "code",
   "execution_count": 22,
   "id": "f21a258e",
   "metadata": {},
   "outputs": [
    {
     "data": {
      "text/plain": [
       "ARG    2.0\n",
       "BRA    NaN\n",
       "CHL    NaN\n",
       "COL    NaN\n",
       "PER    NaN\n",
       "UY     4.0\n",
       "dtype: float64"
      ]
     },
     "execution_count": 22,
     "metadata": {},
     "output_type": "execute_result"
    }
   ],
   "source": [
    "ser1 + ser3 # Los que tengan el mismo indice los sumara, el resto lo dejara nulos. Al sumar los enteros se convertiran en floats"
   ]
  },
  {
   "cell_type": "code",
   "execution_count": null,
   "id": "a64fa20f",
   "metadata": {},
   "outputs": [],
   "source": []
  }
 ],
 "metadata": {
  "kernelspec": {
   "display_name": "Python 3 (ipykernel)",
   "language": "python",
   "name": "python3"
  },
  "language_info": {
   "codemirror_mode": {
    "name": "ipython",
    "version": 3
   },
   "file_extension": ".py",
   "mimetype": "text/x-python",
   "name": "python",
   "nbconvert_exporter": "python",
   "pygments_lexer": "ipython3",
   "version": "3.9.12"
  }
 },
 "nbformat": 4,
 "nbformat_minor": 5
}
