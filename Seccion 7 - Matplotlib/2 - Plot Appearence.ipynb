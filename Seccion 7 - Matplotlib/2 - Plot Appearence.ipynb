{
 "cells": [
  {
   "cell_type": "code",
   "execution_count": 9,
   "id": "9a272d24",
   "metadata": {},
   "outputs": [],
   "source": [
    "import matplotlib.pyplot as plt\n",
    "%matplotlib inline \n",
    "\n",
    "import numpy as np"
   ]
  },
  {
   "cell_type": "code",
   "execution_count": 10,
   "id": "92df6b11",
   "metadata": {},
   "outputs": [],
   "source": [
    "x = np.linspace(0, 5, 11)\n",
    "y = x**2"
   ]
  },
  {
   "cell_type": "code",
   "execution_count": 27,
   "id": "eda4e777",
   "metadata": {},
   "outputs": [
    {
     "data": {
      "text/plain": [
       "(0.0, 5.0)"
      ]
     },
     "execution_count": 27,
     "metadata": {},
     "output_type": "execute_result"
    },
    {
     "data": {
      "image/png": "[encoded data removed]",
      "text/plain": [
       "<Figure size 432x288 with 1 Axes>"
      ]
     },
     "metadata": {
      "needs_background": "light"
     },
     "output_type": "display_data"
    }
   ],
   "source": [
    "fig = plt.figure()\n",
    "\n",
    "ax = fig.add_axes([0,0,1,1])\n",
    "\n",
    "# ax.plot(x,y,color='green') # A color le paso colores basicos\n",
    "# ax.plot(y,x,color='#FF8C00', lw=4, alpha=0.5) # O RGB. lw para el grosor, por default es 1. Alpha para trasparencia\n",
    "# ax.plot(x,y,ls='-.') # ls para definir el trazo\n",
    "ax.plot(x,y,marker='o', markersize=5) # Marker sirve para indicar los valores del primer arreglo. Markersize para  el tamaño\n",
    "\n",
    "ax.set_xlim([1,4]) # Para acotar el grafico a un intervalo en eje x\n",
    "ax.set_ylim([0,5]) # Lo mismo para eje y"
   ]
  },
  {
   "cell_type": "code",
   "execution_count": null,
   "id": "5c86fd91",
   "metadata": {},
   "outputs": [],
   "source": []
  }
 ],
 "metadata": {
  "kernelspec": {
   "display_name": "Python 3 (ipykernel)",
   "language": "python",
   "name": "python3"
  },
  "language_info": {
   "codemirror_mode": {
    "name": "ipython",
    "version": 3
   },
   "file_extension": ".py",
   "mimetype": "text/x-python",
   "name": "python",
   "nbconvert_exporter": "python",
   "pygments_lexer": "ipython3",
   "version": "3.9.12"
  }
 },
 "nbformat": 4,
 "nbformat_minor": 5
}
